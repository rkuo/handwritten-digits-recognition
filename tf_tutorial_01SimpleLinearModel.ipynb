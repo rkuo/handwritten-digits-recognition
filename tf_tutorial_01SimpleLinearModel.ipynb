{
  "nbformat": 4,
  "nbformat_minor": 0,
  "metadata": {
    "colab": {
      "name": "tf-tutorial-01SimpleLinearModel.ipynb",
      "version": "0.3.2",
      "views": {},
      "default_view": {},
      "provenance": [],
      "collapsed_sections": []
    },
    "kernelspec": {
      "name": "python3",
      "display_name": "Python 3"
    }
  },
  "cells": [
    {
      "metadata": {
        "id": "mcFfhPmHxFvx",
        "colab_type": "text"
      },
      "cell_type": "markdown",
      "source": [
        "# TensorFlow Tutorial #01\n",
        "## Simple Linear Model\n",
        "\n",
        "This follows [Hvass's Tensorflow Tutorial](https://github.com/Hvass-Labs/TensorFlow-Tutorials/blob/master/01_Simple_Linear_Model.ipynb)\n",
        "[toc]"
      ]
    },
    {
      "metadata": {
        "id": "YuxDiz6TXUKD",
        "colab_type": "code",
        "colab": {
          "autoexec": {
            "startup": false,
            "wait_interval": 0
          }
        }
      },
      "cell_type": "code",
      "source": [
        "# %matplotlib inline\n",
        "import matplotlib.pyplot as plt\n",
        "import tensorflow as tf\n",
        "import numpy as np\n",
        "from sklearn.metrics import confusion_matrix"
      ],
      "execution_count": 0,
      "outputs": []
    },
    {
      "metadata": {
        "id": "0pTyb7TEcuQF",
        "colab_type": "text"
      },
      "cell_type": "markdown",
      "source": [
        "The difference between `from xx import yy` and `import xx.yy as xxyy`\n",
        "```\n",
        "from urllib import request\n",
        "# access request directly.\n",
        "mine = request()\n",
        "\n",
        "import urllib.request\n",
        "# used as urllib.request\n",
        "mine = urllib.request()\n",
        "```\n",
        "\n",
        "`confusion_matrix` is definied as such that C_{i, j} is equal to the number of observations known to be in group i but predicted to be in group j. "
      ]
    },
    {
      "metadata": {
        "id": "DS7cHqm40jhW",
        "colab_type": "code",
        "colab": {
          "autoexec": {
            "startup": false,
            "wait_interval": 0
          },
          "base_uri": "https://localhost:8080/",
          "height": 35
        },
        "outputId": "a7d84b36-3890-43c5-cdfc-bf0f2bd81cc5",
        "executionInfo": {
          "status": "ok",
          "timestamp": 1528492353468,
          "user_tz": 420,
          "elapsed": 488,
          "user": {
            "displayName": "Richard Kuo",
            "photoUrl": "//lh5.googleusercontent.com/-mCYqOH5oFtk/AAAAAAAAAAI/AAAAAAAAAy0/oPRMXjJYBdY/s50-c-k-no/photo.jpg",
            "userId": "100516856770490478928"
          }
        }
      },
      "cell_type": "code",
      "source": [
        "tf.__version__"
      ],
      "execution_count": 0,
      "outputs": [
        {
          "output_type": "execute_result",
          "data": {
            "text/plain": [
              "'1.8.0'"
            ]
          },
          "metadata": {
            "tags": []
          },
          "execution_count": 2
        }
      ]
    },
    {
      "metadata": {
        "id": "kHSzreWXr01c",
        "colab_type": "text"
      },
      "cell_type": "markdown",
      "source": [
        "## Load Data\n",
        "\n",
        "Load MNIST sample data embedded in system. "
      ]
    },
    {
      "metadata": {
        "id": "BSXX0xdq4EjB",
        "colab_type": "code",
        "colab": {
          "autoexec": {
            "startup": false,
            "wait_interval": 0
          },
          "base_uri": "https://localhost:8080/",
          "height": 540
        },
        "outputId": "6d968bcb-edff-4559-dd66-6f2ae3af4a64",
        "executionInfo": {
          "status": "ok",
          "timestamp": 1528492363860,
          "user_tz": 420,
          "elapsed": 10296,
          "user": {
            "displayName": "Richard Kuo",
            "photoUrl": "//lh5.googleusercontent.com/-mCYqOH5oFtk/AAAAAAAAAAI/AAAAAAAAAy0/oPRMXjJYBdY/s50-c-k-no/photo.jpg",
            "userId": "100516856770490478928"
          }
        }
      },
      "cell_type": "code",
      "source": [
        "from tensorflow.examples.tutorials.mnist import input_data\n",
        "data = input_data.read_data_sets(\"data/MNIST/\", one_hot = True)"
      ],
      "execution_count": 0,
      "outputs": [
        {
          "output_type": "stream",
          "text": [
            "WARNING:tensorflow:From <ipython-input-3-cd9323e4e266>:2: read_data_sets (from tensorflow.contrib.learn.python.learn.datasets.mnist) is deprecated and will be removed in a future version.\n",
            "Instructions for updating:\n",
            "Please use alternatives such as official/mnist/dataset.py from tensorflow/models.\n",
            "WARNING:tensorflow:From /usr/local/lib/python3.6/dist-packages/tensorflow/contrib/learn/python/learn/datasets/mnist.py:260: maybe_download (from tensorflow.contrib.learn.python.learn.datasets.base) is deprecated and will be removed in a future version.\n",
            "Instructions for updating:\n",
            "Please write your own downloading logic.\n",
            "WARNING:tensorflow:From /usr/local/lib/python3.6/dist-packages/tensorflow/contrib/learn/python/learn/datasets/base.py:252: _internal_retry.<locals>.wrap.<locals>.wrapped_fn (from tensorflow.contrib.learn.python.learn.datasets.base) is deprecated and will be removed in a future version.\n",
            "Instructions for updating:\n",
            "Please use urllib or similar directly.\n",
            "Successfully downloaded train-images-idx3-ubyte.gz 9912422 bytes.\n",
            "WARNING:tensorflow:From /usr/local/lib/python3.6/dist-packages/tensorflow/contrib/learn/python/learn/datasets/mnist.py:262: extract_images (from tensorflow.contrib.learn.python.learn.datasets.mnist) is deprecated and will be removed in a future version.\n",
            "Instructions for updating:\n",
            "Please use tf.data to implement this functionality.\n",
            "Extracting data/MNIST/train-images-idx3-ubyte.gz\n",
            "Successfully downloaded train-labels-idx1-ubyte.gz 28881 bytes.\n",
            "WARNING:tensorflow:From /usr/local/lib/python3.6/dist-packages/tensorflow/contrib/learn/python/learn/datasets/mnist.py:267: extract_labels (from tensorflow.contrib.learn.python.learn.datasets.mnist) is deprecated and will be removed in a future version.\n",
            "Instructions for updating:\n",
            "Please use tf.data to implement this functionality.\n",
            "Extracting data/MNIST/train-labels-idx1-ubyte.gz\n",
            "WARNING:tensorflow:From /usr/local/lib/python3.6/dist-packages/tensorflow/contrib/learn/python/learn/datasets/mnist.py:110: dense_to_one_hot (from tensorflow.contrib.learn.python.learn.datasets.mnist) is deprecated and will be removed in a future version.\n",
            "Instructions for updating:\n",
            "Please use tf.one_hot on tensors.\n",
            "Successfully downloaded t10k-images-idx3-ubyte.gz 1648877 bytes.\n",
            "Extracting data/MNIST/t10k-images-idx3-ubyte.gz\n",
            "Successfully downloaded t10k-labels-idx1-ubyte.gz 4542 bytes.\n",
            "Extracting data/MNIST/t10k-labels-idx1-ubyte.gz\n",
            "WARNING:tensorflow:From /usr/local/lib/python3.6/dist-packages/tensorflow/contrib/learn/python/learn/datasets/mnist.py:290: DataSet.__init__ (from tensorflow.contrib.learn.python.learn.datasets.mnist) is deprecated and will be removed in a future version.\n",
            "Instructions for updating:\n",
            "Please use alternatives such as official/mnist/dataset.py from tensorflow/models.\n"
          ],
          "name": "stdout"
        }
      ]
    },
    {
      "metadata": {
        "id": "K9Xv8sywrCdA",
        "colab_type": "text"
      },
      "cell_type": "markdown",
      "source": [
        "Ignore the warming message for now, and get the size of data to verify all data are loaded."
      ]
    },
    {
      "metadata": {
        "id": "zsU5Z8dYm4jH",
        "colab_type": "code",
        "colab": {
          "autoexec": {
            "startup": false,
            "wait_interval": 0
          },
          "base_uri": "https://localhost:8080/",
          "height": 87
        },
        "outputId": "35fb70ea-9630-4f9d-9393-627af7524a44",
        "executionInfo": {
          "status": "ok",
          "timestamp": 1528492364373,
          "user_tz": 420,
          "elapsed": 485,
          "user": {
            "displayName": "Richard Kuo",
            "photoUrl": "//lh5.googleusercontent.com/-mCYqOH5oFtk/AAAAAAAAAAI/AAAAAAAAAy0/oPRMXjJYBdY/s50-c-k-no/photo.jpg",
            "userId": "100516856770490478928"
          }
        }
      },
      "cell_type": "code",
      "source": [
        "print(\"Size of:\")\n",
        "print(\"- Training-set:\\t\\t{}\".format(len(data.train.labels)))\n",
        "print(\"- Test-set:\\t\\t{}\".format(len(data.test.labels)))\n",
        "print(\"- Validation-set:\\t{}\".format(len(data.validation.labels)))"
      ],
      "execution_count": 0,
      "outputs": [
        {
          "output_type": "stream",
          "text": [
            "Size of:\n",
            "- Training-set:\t\t55000\n",
            "- Test-set:\t\t10000\n",
            "- Validation-set:\t5000\n"
          ],
          "name": "stdout"
        }
      ]
    },
    {
      "metadata": {
        "id": "WzTI9jGQs_7x",
        "colab_type": "text"
      },
      "cell_type": "markdown",
      "source": [
        "### Exam the Data and Understand their Meta Information\n",
        "Printout some Test sample data."
      ]
    },
    {
      "metadata": {
        "id": "-l7lelY-w7_U",
        "colab_type": "code",
        "colab": {
          "autoexec": {
            "startup": false,
            "wait_interval": 0
          },
          "base_uri": "https://localhost:8080/",
          "height": 35
        },
        "outputId": "5b1e9c44-c836-4e80-c712-2f522717d9f5",
        "executionInfo": {
          "status": "ok",
          "timestamp": 1528492364762,
          "user_tz": 420,
          "elapsed": 249,
          "user": {
            "displayName": "Richard Kuo",
            "photoUrl": "//lh5.googleusercontent.com/-mCYqOH5oFtk/AAAAAAAAAAI/AAAAAAAAAy0/oPRMXjJYBdY/s50-c-k-no/photo.jpg",
            "userId": "100516856770490478928"
          }
        }
      },
      "cell_type": "code",
      "source": [
        "data.test.images[0:0, :]"
      ],
      "execution_count": 0,
      "outputs": [
        {
          "output_type": "execute_result",
          "data": {
            "text/plain": [
              "array([], shape=(0, 784), dtype=float32)"
            ]
          },
          "metadata": {
            "tags": []
          },
          "execution_count": 5
        }
      ]
    },
    {
      "metadata": {
        "id": "RzDm80GGvp5o",
        "colab_type": "code",
        "colab": {
          "autoexec": {
            "startup": false,
            "wait_interval": 0
          },
          "base_uri": "https://localhost:8080/",
          "height": 2739
        },
        "outputId": "53dd1694-9967-441e-ee86-c18e6c752fc2",
        "executionInfo": {
          "status": "ok",
          "timestamp": 1528492365116,
          "user_tz": 420,
          "elapsed": 289,
          "user": {
            "displayName": "Richard Kuo",
            "photoUrl": "//lh5.googleusercontent.com/-mCYqOH5oFtk/AAAAAAAAAAI/AAAAAAAAAy0/oPRMXjJYBdY/s50-c-k-no/photo.jpg",
            "userId": "100516856770490478928"
          }
        }
      },
      "cell_type": "code",
      "source": [
        "data.test.images[0:1, :]"
      ],
      "execution_count": 0,
      "outputs": [
        {
          "output_type": "execute_result",
          "data": {
            "text/plain": [
              "array([[0.        , 0.        , 0.        , 0.        , 0.        ,\n",
              "        0.        , 0.        , 0.        , 0.        , 0.        ,\n",
              "        0.        , 0.        , 0.        , 0.        , 0.        ,\n",
              "        0.        , 0.        , 0.        , 0.        , 0.        ,\n",
              "        0.        , 0.        , 0.        , 0.        , 0.        ,\n",
              "        0.        , 0.        , 0.        , 0.        , 0.        ,\n",
              "        0.        , 0.        , 0.        , 0.        , 0.        ,\n",
              "        0.        , 0.        , 0.        , 0.        , 0.        ,\n",
              "        0.        , 0.        , 0.        , 0.        , 0.        ,\n",
              "        0.        , 0.        , 0.        , 0.        , 0.        ,\n",
              "        0.        , 0.        , 0.        , 0.        , 0.        ,\n",
              "        0.        , 0.        , 0.        , 0.        , 0.        ,\n",
              "        0.        , 0.        , 0.        , 0.        , 0.        ,\n",
              "        0.        , 0.        , 0.        , 0.        , 0.        ,\n",
              "        0.        , 0.        , 0.        , 0.        , 0.        ,\n",
              "        0.        , 0.        , 0.        , 0.        , 0.        ,\n",
              "        0.        , 0.        , 0.        , 0.        , 0.        ,\n",
              "        0.        , 0.        , 0.        , 0.        , 0.        ,\n",
              "        0.        , 0.        , 0.        , 0.        , 0.        ,\n",
              "        0.        , 0.        , 0.        , 0.        , 0.        ,\n",
              "        0.        , 0.        , 0.        , 0.        , 0.        ,\n",
              "        0.        , 0.        , 0.        , 0.        , 0.        ,\n",
              "        0.        , 0.        , 0.        , 0.        , 0.        ,\n",
              "        0.        , 0.        , 0.        , 0.        , 0.        ,\n",
              "        0.        , 0.        , 0.        , 0.        , 0.        ,\n",
              "        0.        , 0.        , 0.        , 0.        , 0.        ,\n",
              "        0.        , 0.        , 0.        , 0.        , 0.        ,\n",
              "        0.        , 0.        , 0.        , 0.        , 0.        ,\n",
              "        0.        , 0.        , 0.        , 0.        , 0.        ,\n",
              "        0.        , 0.        , 0.        , 0.        , 0.        ,\n",
              "        0.        , 0.        , 0.        , 0.        , 0.        ,\n",
              "        0.        , 0.        , 0.        , 0.        , 0.        ,\n",
              "        0.        , 0.        , 0.        , 0.        , 0.        ,\n",
              "        0.        , 0.        , 0.        , 0.        , 0.        ,\n",
              "        0.        , 0.        , 0.        , 0.        , 0.        ,\n",
              "        0.        , 0.        , 0.        , 0.        , 0.        ,\n",
              "        0.        , 0.        , 0.        , 0.        , 0.        ,\n",
              "        0.        , 0.        , 0.        , 0.        , 0.        ,\n",
              "        0.        , 0.        , 0.        , 0.        , 0.        ,\n",
              "        0.        , 0.        , 0.        , 0.        , 0.        ,\n",
              "        0.        , 0.        , 0.32941177, 0.7254902 , 0.62352943,\n",
              "        0.5921569 , 0.23529413, 0.14117648, 0.        , 0.        ,\n",
              "        0.        , 0.        , 0.        , 0.        , 0.        ,\n",
              "        0.        , 0.        , 0.        , 0.        , 0.        ,\n",
              "        0.        , 0.        , 0.        , 0.        , 0.        ,\n",
              "        0.        , 0.        , 0.        , 0.        , 0.        ,\n",
              "        0.8705883 , 0.9960785 , 0.9960785 , 0.9960785 , 0.9960785 ,\n",
              "        0.9450981 , 0.77647066, 0.77647066, 0.77647066, 0.77647066,\n",
              "        0.77647066, 0.77647066, 0.77647066, 0.77647066, 0.6666667 ,\n",
              "        0.20392159, 0.        , 0.        , 0.        , 0.        ,\n",
              "        0.        , 0.        , 0.        , 0.        , 0.        ,\n",
              "        0.        , 0.        , 0.        , 0.2627451 , 0.44705886,\n",
              "        0.28235295, 0.44705886, 0.6392157 , 0.89019614, 0.9960785 ,\n",
              "        0.882353  , 0.9960785 , 0.9960785 , 0.9960785 , 0.9803922 ,\n",
              "        0.8980393 , 0.9960785 , 0.9960785 , 0.54901963, 0.        ,\n",
              "        0.        , 0.        , 0.        , 0.        , 0.        ,\n",
              "        0.        , 0.        , 0.        , 0.        , 0.        ,\n",
              "        0.        , 0.        , 0.        , 0.        , 0.        ,\n",
              "        0.        , 0.06666667, 0.25882354, 0.05490196, 0.2627451 ,\n",
              "        0.2627451 , 0.2627451 , 0.23137257, 0.08235294, 0.92549026,\n",
              "        0.9960785 , 0.4156863 , 0.        , 0.        , 0.        ,\n",
              "        0.        , 0.        , 0.        , 0.        , 0.        ,\n",
              "        0.        , 0.        , 0.        , 0.        , 0.        ,\n",
              "        0.        , 0.        , 0.        , 0.        , 0.        ,\n",
              "        0.        , 0.        , 0.        , 0.        , 0.        ,\n",
              "        0.        , 0.3254902 , 0.9921569 , 0.8196079 , 0.07058824,\n",
              "        0.        , 0.        , 0.        , 0.        , 0.        ,\n",
              "        0.        , 0.        , 0.        , 0.        , 0.        ,\n",
              "        0.        , 0.        , 0.        , 0.        , 0.        ,\n",
              "        0.        , 0.        , 0.        , 0.        , 0.        ,\n",
              "        0.        , 0.        , 0.        , 0.08627451, 0.91372555,\n",
              "        1.        , 0.3254902 , 0.        , 0.        , 0.        ,\n",
              "        0.        , 0.        , 0.        , 0.        , 0.        ,\n",
              "        0.        , 0.        , 0.        , 0.        , 0.        ,\n",
              "        0.        , 0.        , 0.        , 0.        , 0.        ,\n",
              "        0.        , 0.        , 0.        , 0.        , 0.        ,\n",
              "        0.        , 0.5058824 , 0.9960785 , 0.9333334 , 0.17254902,\n",
              "        0.        , 0.        , 0.        , 0.        , 0.        ,\n",
              "        0.        , 0.        , 0.        , 0.        , 0.        ,\n",
              "        0.        , 0.        , 0.        , 0.        , 0.        ,\n",
              "        0.        , 0.        , 0.        , 0.        , 0.        ,\n",
              "        0.        , 0.        , 0.        , 0.23137257, 0.97647065,\n",
              "        0.9960785 , 0.24313727, 0.        , 0.        , 0.        ,\n",
              "        0.        , 0.        , 0.        , 0.        , 0.        ,\n",
              "        0.        , 0.        , 0.        , 0.        , 0.        ,\n",
              "        0.        , 0.        , 0.        , 0.        , 0.        ,\n",
              "        0.        , 0.        , 0.        , 0.        , 0.        ,\n",
              "        0.        , 0.52156866, 0.9960785 , 0.73333335, 0.01960784,\n",
              "        0.        , 0.        , 0.        , 0.        , 0.        ,\n",
              "        0.        , 0.        , 0.        , 0.        , 0.        ,\n",
              "        0.        , 0.        , 0.        , 0.        , 0.        ,\n",
              "        0.        , 0.        , 0.        , 0.        , 0.        ,\n",
              "        0.        , 0.        , 0.        , 0.03529412, 0.80392164,\n",
              "        0.9725491 , 0.227451  , 0.        , 0.        , 0.        ,\n",
              "        0.        , 0.        , 0.        , 0.        , 0.        ,\n",
              "        0.        , 0.        , 0.        , 0.        , 0.        ,\n",
              "        0.        , 0.        , 0.        , 0.        , 0.        ,\n",
              "        0.        , 0.        , 0.        , 0.        , 0.        ,\n",
              "        0.        , 0.49411768, 0.9960785 , 0.7137255 , 0.        ,\n",
              "        0.        , 0.        , 0.        , 0.        , 0.        ,\n",
              "        0.        , 0.        , 0.        , 0.        , 0.        ,\n",
              "        0.        , 0.        , 0.        , 0.        , 0.        ,\n",
              "        0.        , 0.        , 0.        , 0.        , 0.        ,\n",
              "        0.        , 0.        , 0.        , 0.29411766, 0.9843138 ,\n",
              "        0.94117653, 0.22352943, 0.        , 0.        , 0.        ,\n",
              "        0.        , 0.        , 0.        , 0.        , 0.        ,\n",
              "        0.        , 0.        , 0.        , 0.        , 0.        ,\n",
              "        0.        , 0.        , 0.        , 0.        , 0.        ,\n",
              "        0.        , 0.        , 0.        , 0.        , 0.        ,\n",
              "        0.07450981, 0.86666673, 0.9960785 , 0.6509804 , 0.        ,\n",
              "        0.        , 0.        , 0.        , 0.        , 0.        ,\n",
              "        0.        , 0.        , 0.        , 0.        , 0.        ,\n",
              "        0.        , 0.        , 0.        , 0.        , 0.        ,\n",
              "        0.        , 0.        , 0.        , 0.        , 0.        ,\n",
              "        0.        , 0.        , 0.01176471, 0.7960785 , 0.9960785 ,\n",
              "        0.8588236 , 0.13725491, 0.        , 0.        , 0.        ,\n",
              "        0.        , 0.        , 0.        , 0.        , 0.        ,\n",
              "        0.        , 0.        , 0.        , 0.        , 0.        ,\n",
              "        0.        , 0.        , 0.        , 0.        , 0.        ,\n",
              "        0.        , 0.        , 0.        , 0.        , 0.        ,\n",
              "        0.14901961, 0.9960785 , 0.9960785 , 0.3019608 , 0.        ,\n",
              "        0.        , 0.        , 0.        , 0.        , 0.        ,\n",
              "        0.        , 0.        , 0.        , 0.        , 0.        ,\n",
              "        0.        , 0.        , 0.        , 0.        , 0.        ,\n",
              "        0.        , 0.        , 0.        , 0.        , 0.        ,\n",
              "        0.        , 0.        , 0.12156864, 0.87843144, 0.9960785 ,\n",
              "        0.45098042, 0.00392157, 0.        , 0.        , 0.        ,\n",
              "        0.        , 0.        , 0.        , 0.        , 0.        ,\n",
              "        0.        , 0.        , 0.        , 0.        , 0.        ,\n",
              "        0.        , 0.        , 0.        , 0.        , 0.        ,\n",
              "        0.        , 0.        , 0.        , 0.        , 0.        ,\n",
              "        0.52156866, 0.9960785 , 0.9960785 , 0.20392159, 0.        ,\n",
              "        0.        , 0.        , 0.        , 0.        , 0.        ,\n",
              "        0.        , 0.        , 0.        , 0.        , 0.        ,\n",
              "        0.        , 0.        , 0.        , 0.        , 0.        ,\n",
              "        0.        , 0.        , 0.        , 0.        , 0.        ,\n",
              "        0.        , 0.        , 0.2392157 , 0.9490197 , 0.9960785 ,\n",
              "        0.9960785 , 0.20392159, 0.        , 0.        , 0.        ,\n",
              "        0.        , 0.        , 0.        , 0.        , 0.        ,\n",
              "        0.        , 0.        , 0.        , 0.        , 0.        ,\n",
              "        0.        , 0.        , 0.        , 0.        , 0.        ,\n",
              "        0.        , 0.        , 0.        , 0.        , 0.        ,\n",
              "        0.47450984, 0.9960785 , 0.9960785 , 0.8588236 , 0.15686275,\n",
              "        0.        , 0.        , 0.        , 0.        , 0.        ,\n",
              "        0.        , 0.        , 0.        , 0.        , 0.        ,\n",
              "        0.        , 0.        , 0.        , 0.        , 0.        ,\n",
              "        0.        , 0.        , 0.        , 0.        , 0.        ,\n",
              "        0.        , 0.        , 0.        , 0.47450984, 0.9960785 ,\n",
              "        0.8117648 , 0.07058824, 0.        , 0.        , 0.        ,\n",
              "        0.        , 0.        , 0.        , 0.        , 0.        ,\n",
              "        0.        , 0.        , 0.        , 0.        , 0.        ,\n",
              "        0.        , 0.        , 0.        , 0.        , 0.        ,\n",
              "        0.        , 0.        , 0.        , 0.        , 0.        ,\n",
              "        0.        , 0.        , 0.        , 0.        , 0.        ,\n",
              "        0.        , 0.        , 0.        , 0.        , 0.        ,\n",
              "        0.        , 0.        , 0.        , 0.        , 0.        ,\n",
              "        0.        , 0.        , 0.        , 0.        ]], dtype=float32)"
            ]
          },
          "metadata": {
            "tags": []
          },
          "execution_count": 6
        }
      ]
    },
    {
      "metadata": {
        "id": "iTzsWUPCqVFR",
        "colab_type": "code",
        "colab": {
          "autoexec": {
            "startup": false,
            "wait_interval": 0
          },
          "base_uri": "https://localhost:8080/",
          "height": 104
        },
        "outputId": "e25b4a1e-eced-41fd-99bd-171217fb688d",
        "executionInfo": {
          "status": "ok",
          "timestamp": 1528492365486,
          "user_tz": 420,
          "elapsed": 295,
          "user": {
            "displayName": "Richard Kuo",
            "photoUrl": "//lh5.googleusercontent.com/-mCYqOH5oFtk/AAAAAAAAAAI/AAAAAAAAAy0/oPRMXjJYBdY/s50-c-k-no/photo.jpg",
            "userId": "100516856770490478928"
          }
        }
      },
      "cell_type": "code",
      "source": [
        "data.test.labels[0:5, :]"
      ],
      "execution_count": 0,
      "outputs": [
        {
          "output_type": "execute_result",
          "data": {
            "text/plain": [
              "array([[0., 0., 0., 0., 0., 0., 0., 1., 0., 0.],\n",
              "       [0., 0., 1., 0., 0., 0., 0., 0., 0., 0.],\n",
              "       [0., 1., 0., 0., 0., 0., 0., 0., 0., 0.],\n",
              "       [1., 0., 0., 0., 0., 0., 0., 0., 0., 0.],\n",
              "       [0., 0., 0., 0., 1., 0., 0., 0., 0., 0.]])"
            ]
          },
          "metadata": {
            "tags": []
          },
          "execution_count": 7
        }
      ]
    },
    {
      "metadata": {
        "id": "guXF2AWn0s2_",
        "colab_type": "text"
      },
      "cell_type": "markdown",
      "source": [
        "### Get Results\n",
        "We also need the classes as single numbers for various comparisons and performance measures, so we convert the One-Hot encoded vectors to a single number by taking the index of the highest element."
      ]
    },
    {
      "metadata": {
        "id": "WOVBWYElzjGB",
        "colab_type": "code",
        "colab": {
          "autoexec": {
            "startup": false,
            "wait_interval": 0
          }
        }
      },
      "cell_type": "code",
      "source": [
        "data.test.cls = np.array([label.argmax() for label in data.test.labels])"
      ],
      "execution_count": 0,
      "outputs": []
    },
    {
      "metadata": {
        "id": "jcKkkqac0h4i",
        "colab_type": "code",
        "colab": {
          "autoexec": {
            "startup": false,
            "wait_interval": 0
          },
          "base_uri": "https://localhost:8080/",
          "height": 35
        },
        "outputId": "403e53f0-303b-4b16-d910-44bc4bf13e1a",
        "executionInfo": {
          "status": "ok",
          "timestamp": 1528492366170,
          "user_tz": 420,
          "elapsed": 269,
          "user": {
            "displayName": "Richard Kuo",
            "photoUrl": "//lh5.googleusercontent.com/-mCYqOH5oFtk/AAAAAAAAAAI/AAAAAAAAAy0/oPRMXjJYBdY/s50-c-k-no/photo.jpg",
            "userId": "100516856770490478928"
          }
        }
      },
      "cell_type": "code",
      "source": [
        "data.test.cls[0:5]"
      ],
      "execution_count": 0,
      "outputs": [
        {
          "output_type": "execute_result",
          "data": {
            "text/plain": [
              "array([7, 2, 1, 0, 4])"
            ]
          },
          "metadata": {
            "tags": []
          },
          "execution_count": 9
        }
      ]
    },
    {
      "metadata": {
        "id": "SSXKVnzW2Mf4",
        "colab_type": "text"
      },
      "cell_type": "markdown",
      "source": [
        "### Data Dimension\n"
      ]
    },
    {
      "metadata": {
        "id": "oUu5yiSxgIt4",
        "colab_type": "code",
        "colab": {
          "autoexec": {
            "startup": false,
            "wait_interval": 0
          }
        }
      },
      "cell_type": "code",
      "source": [
        "# We know that MNIST images are 28 pixels in each dimension.\n",
        "img_size = 28\n",
        "\n",
        "# Images are stored in one-dimensional arrays of this length.\n",
        "img_size_flat = img_size * img_size\n",
        "\n",
        "# Tuple with height and width of images used to reshape arrays.\n",
        "img_shape = (img_size, img_size)\n",
        "\n",
        "# Number of classes, one class for each of 10 digits.\n",
        "num_classes = 10"
      ],
      "execution_count": 0,
      "outputs": []
    },
    {
      "metadata": {
        "id": "JjwoCaSLSDOG",
        "colab_type": "text"
      },
      "cell_type": "markdown",
      "source": [
        "## Learn to Plot\n",
        "\n",
        "import library first\n",
        "1. Prepare data\n",
        "2. Create plot\n",
        "3. Plot\n",
        "4. Customize plot\n",
        "5. Save plot\n",
        "6. Show plot\n",
        "\n",
        "!!!Requires step-1 tp step-6 in one cell!!!"
      ]
    },
    {
      "metadata": {
        "id": "Grz8_89llMK4",
        "colab_type": "text"
      },
      "cell_type": "markdown",
      "source": [
        "![cheat sheet - matplot](https://www.evernote.com/l/AS4i4sX2oBxOfI20WutXgbqwqoB-1Tum44sB/image.png)"
      ]
    },
    {
      "metadata": {
        "id": "U9tvJWx4qSYp",
        "colab_type": "code",
        "colab": {
          "autoexec": {
            "startup": false,
            "wait_interval": 0
          },
          "base_uri": "https://localhost:8080/",
          "height": 377
        },
        "outputId": "137521cc-a026-43a1-80f1-a3720eb4eb8c",
        "executionInfo": {
          "status": "ok",
          "timestamp": 1528492367260,
          "user_tz": 420,
          "elapsed": 617,
          "user": {
            "displayName": "Richard Kuo",
            "photoUrl": "//lh5.googleusercontent.com/-mCYqOH5oFtk/AAAAAAAAAAI/AAAAAAAAAy0/oPRMXjJYBdY/s50-c-k-no/photo.jpg",
            "userId": "100516856770490478928"
          }
        }
      },
      "cell_type": "code",
      "source": [
        "# Experiment, for tutorial see https://realpython.com/python-matplotlib-guide/\n",
        "# from cheat sheet above\n",
        "# step-1 Prepare data\n",
        "x = [1, 2, 3, 4]\n",
        "y = [10, 20, 25, 30]\n",
        "# step-2 Create plot, assign a name, make sure run import plot library first\n",
        "fig = plt.figure()\n",
        "# step-3 Plot \n",
        "ax = fig.add_subplot(111)\n",
        "\n",
        "# add few extra, label\n",
        "ax.plot(x, y, color='lightblue', label='line1', linewidth=3)\n",
        "\n",
        "\n",
        "# step-4 Customize plot\n",
        "ax.scatter([2, 4, 6], [5, 15, 25], color='darkgreen', label='dot1', marker='*')\n",
        "ax.set_xlim(1, 6.5)\n",
        "\n",
        "plt.legend()\n",
        "plt.xlabel('x-label',color = 'red')\n",
        "plt.title('t-123', color = 'r')\n",
        "\n",
        "\n",
        "# step-5 Save plot\n",
        "plt.savefig('foo.png')\n",
        "# step-6 Show plot\n",
        "# plt.show()"
      ],
      "execution_count": 0,
      "outputs": [
        {
          "output_type": "display_data",
          "data": {
            "image/png": "[encoded data removed]",
            "text/plain": [
              "<matplotlib.figure.Figure at 0x7f4689baf9e8>"
            ]
          },
          "metadata": {
            "tags": []
          }
        }
      ]
    },
    {
      "metadata": {
        "id": "2YmO4fmB9QYZ",
        "colab_type": "code",
        "colab": {
          "autoexec": {
            "startup": false,
            "wait_interval": 0
          },
          "base_uri": "https://localhost:8080/",
          "height": 347
        },
        "outputId": "386b42aa-c21c-4e10-c2ad-cb5a64c5faa7",
        "executionInfo": {
          "status": "ok",
          "timestamp": 1528492367733,
          "user_tz": 420,
          "elapsed": 443,
          "user": {
            "displayName": "Richard Kuo",
            "photoUrl": "//lh5.googleusercontent.com/-mCYqOH5oFtk/AAAAAAAAAAI/AAAAAAAAAy0/oPRMXjJYBdY/s50-c-k-no/photo.jpg",
            "userId": "100516856770490478928"
          }
        }
      },
      "cell_type": "code",
      "source": [
        "# from https://www.designnews.com/design-hardware-software/how-develop-ai-on-raspberry-pi-google-colaboratory/206379795358509\n",
        "\n",
        "a = np.linspace(0, 10, 100)\n",
        "b = np.exp(-a)\n",
        "plt.plot(a, b)\n",
        "plt.show()"
      ],
      "execution_count": 0,
      "outputs": [
        {
          "output_type": "display_data",
          "data": {
            "image/png": "[encoded data removed]",
            "text/plain": [
              "<matplotlib.figure.Figure at 0x7f4689be2e10>"
            ]
          },
          "metadata": {
            "tags": []
          }
        }
      ]
    },
    {
      "metadata": {
        "id": "aFO72Z8m2IwW",
        "colab_type": "text"
      },
      "cell_type": "markdown",
      "source": [
        "## Help Function for Plotting Images\n",
        "plot 3x3 images and write true and predicted number below."
      ]
    },
    {
      "metadata": {
        "id": "UuKSF2tDtGsB",
        "colab_type": "code",
        "colab": {
          "autoexec": {
            "startup": false,
            "wait_interval": 0
          }
        }
      },
      "cell_type": "code",
      "source": [
        "def plot_images(images, cls_true, cls_pred=None):\n",
        "    assert len(images) == len(cls_true) == 9\n",
        "    \n",
        "    # Create figure with 3x3 sub-plots.\n",
        "    fig, axes = plt.subplots(3, 3)\n",
        "    fig.subplots_adjust(hspace=0.3, wspace=0.3)\n",
        "\n",
        "    for i, ax in enumerate(axes.flat):\n",
        "        # Plot image.\n",
        "        ax.imshow(images[i].reshape(img_shape), cmap='binary')\n",
        "\n",
        "        # Show true and predicted classes.\n",
        "        if cls_pred is None:\n",
        "            xlabel = \"True: {0}\".format(cls_true[i])\n",
        "        else:\n",
        "            xlabel = \"True: {0}, Pred: {1}\".format(cls_true[i], cls_pred[i])\n",
        "\n",
        "        ax.set_xlabel(xlabel)\n",
        "        \n",
        "        # Remove ticks from the plot.\n",
        "        ax.set_xticks([])\n",
        "        ax.set_yticks([])\n",
        "        \n",
        "    # Ensure the plot is shown correctly with multiple plots\n",
        "    # in a single Notebook cell.\n",
        "    plt.show()"
      ],
      "execution_count": 0,
      "outputs": []
    },
    {
      "metadata": {
        "id": "jWD4o3Y74Rwj",
        "colab_type": "text"
      },
      "cell_type": "markdown",
      "source": [
        "## Plot few Images"
      ]
    },
    {
      "metadata": {
        "id": "GeEeh3kD4d5R",
        "colab_type": "code",
        "colab": {
          "autoexec": {
            "startup": false,
            "wait_interval": 0
          },
          "base_uri": "https://localhost:8080/",
          "height": 345
        },
        "outputId": "700553b2-0363-4f6e-904c-71a19eb932f7",
        "executionInfo": {
          "status": "ok",
          "timestamp": 1528492368907,
          "user_tz": 420,
          "elapsed": 779,
          "user": {
            "displayName": "Richard Kuo",
            "photoUrl": "//lh5.googleusercontent.com/-mCYqOH5oFtk/AAAAAAAAAAI/AAAAAAAAAy0/oPRMXjJYBdY/s50-c-k-no/photo.jpg",
            "userId": "100516856770490478928"
          }
        }
      },
      "cell_type": "code",
      "source": [
        "# Get first few images\n",
        "images = data.test.images[0:9]\n",
        "# Get true class of those images\n",
        "cls_true = data.test.labels[0:9]\n",
        "# plot\n",
        "plot_images(images=images, cls_true=cls_true)"
      ],
      "execution_count": 0,
      "outputs": [
        {
          "output_type": "display_data",
          "data": {
            "image/png": "[encoded data removed]",
            "text/plain": [
              "<matplotlib.figure.Figure at 0x7f4686e19a58>"
            ]
          },
          "metadata": {
            "tags": []
          }
        }
      ]
    },
    {
      "metadata": {
        "id": "C30XBa5O8Wr7",
        "colab_type": "text"
      },
      "cell_type": "markdown",
      "source": [
        "## Tensorflow Graph\n",
        "\n",
        "A TensorFlow graph consists of the following parts which will be detailed below:\n",
        "\n",
        "![nn model](https://www.evernote.com/l/AS5v1D2QyMdCIqKDJxrmTtJTFROXHaSFPFIB/image.png)\n",
        "\n",
        "- Placeholder variables used to change the input to the graph. (X, Y, Label).\n",
        "- Model variables that are going to be optimized so as to make the model perform better. (W, B)\n",
        "- The model which is essentially just a mathematical function that calculates some output given the input in the placeholder variables and the model variables.(J)\n",
        "- An optimization method which updates the variables of the model. (Optimizer)\n",
        "\n",
        "### Placeholder\n",
        "\n",
        "Placeholder variables serve as the input to the graph that we may change each time we execute the graph. We call this feeding the placeholder variables. We need3 placeholders:\n",
        "\n",
        "- one for holding images, X.\n",
        "- one for holding true value of image represents, Y, aka label.\n",
        "- one for predicted value, Y_hat.\n",
        " \n",
        "##### For X:\n",
        "\n",
        "the data-type is set to float32, which can represent shade, and the shape is set to [None, img_size_flat], where None means not specified, that the tensor may hold an arbitrary number of images with each image being a vector of length img_size_flat. When we exam the data.test before, the data format is `array([], shape=(0, 784), dtype=float32)` and value is \n",
        "\n",
        "```\n",
        "array([[0., 0., 0., 0., 0., 0., 0., 0., 0., 0., 0., 0. ....]]) # with 28x28 elements in the array\n",
        "```\n",
        "So, it is an array, not a vector.\n"
      ]
    },
    {
      "metadata": {
        "id": "lK__sUlv-261",
        "colab_type": "code",
        "colab": {
          "autoexec": {
            "startup": false,
            "wait_interval": 0
          }
        }
      },
      "cell_type": "code",
      "source": [
        "# img_size_flat = img_size * img_size \n",
        "x = tf.placeholder(tf.float32, [None, img_size_flat])\n"
      ],
      "execution_count": 0,
      "outputs": []
    },
    {
      "metadata": {
        "id": "RgSfDctL-z6u",
        "colab_type": "text"
      },
      "cell_type": "markdown",
      "source": [
        "**For Y:**\n",
        "\n",
        "Next we have the placeholder variable for the true labels associated with the images that were input in the placeholder variable x. The shape of this placeholder variable is [None, nu_classes] which means it may hold an arbitrary number of labels and each label is a vector of length num_classes which is 10 in this case.\n",
        "\n",
        "`array([[0., 0., 0., 0., 0., 0., 0., 1., 0., 0.], [...], [ ]])`\n"
      ]
    },
    {
      "metadata": {
        "id": "-dPlTnUGZieF",
        "colab_type": "code",
        "colab": {
          "autoexec": {
            "startup": false,
            "wait_interval": 0
          }
        }
      },
      "cell_type": "code",
      "source": [
        "y_true = tf.placeholder(tf.float32, [None, num_classes])"
      ],
      "execution_count": 0,
      "outputs": []
    },
    {
      "metadata": {
        "id": "FhHA7ocgWTnd",
        "colab_type": "text"
      },
      "cell_type": "markdown",
      "source": [
        "**For Prediction/Y_hat:** \n",
        "\n",
        "Finally we have the placeholder variable for the true class of each image in the placeholder variable x. These are integers and the dimensionality of this placeholder variable is set to [None] which means the placeholder variable is a one-dimensional vector of arbitrary length.\n",
        "\n",
        "It is a vector."
      ]
    },
    {
      "metadata": {
        "id": "achtov5zHOKz",
        "colab_type": "code",
        "colab": {
          "autoexec": {
            "startup": false,
            "wait_interval": 0
          }
        }
      },
      "cell_type": "code",
      "source": [
        "y_true_cls = tf.placeholder(tf.int64, [None])"
      ],
      "execution_count": 0,
      "outputs": []
    }
  ]
}